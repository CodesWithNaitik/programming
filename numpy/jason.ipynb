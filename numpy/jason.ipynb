{
 "cells": [
  {
   "cell_type": "markdown",
   "metadata": {},
   "source": [
    "# jason and matplotlib"
   ]
  },
  {
   "cell_type": "code",
   "execution_count": 1,
   "metadata": {},
   "outputs": [],
   "source": [
    "import json"
   ]
  },
  {
   "cell_type": "code",
   "execution_count": 2,
   "metadata": {},
   "outputs": [],
   "source": [
    "jason_data='{\"a\":1, \"b\":2, \"c\":3}'"
   ]
  },
  {
   "cell_type": "code",
   "execution_count": 3,
   "metadata": {},
   "outputs": [
    {
     "name": "stdout",
     "output_type": "stream",
     "text": [
      "{'a': 1, 'b': 2, 'c': 3}\n"
     ]
    }
   ],
   "source": [
    "x=json.loads(jason_data)\n",
    "print(x)"
   ]
  },
  {
   "cell_type": "code",
   "execution_count": 4,
   "metadata": {},
   "outputs": [
    {
     "data": {
      "text/plain": [
       "3"
      ]
     },
     "execution_count": 4,
     "metadata": {},
     "output_type": "execute_result"
    }
   ],
   "source": [
    "x['c']"
   ]
  },
  {
   "cell_type": "code",
   "execution_count": 5,
   "metadata": {},
   "outputs": [],
   "source": [
    "ali='''{\n",
    "  \"params\":\n",
    "  {\n",
    "    \"local_server\":\"True\",\n",
    "    \"local_uri\": \"mysql://root:@localhost/codingthunder\",\n",
    "    \"prod_uri\":\"mysql://root:@localhost/codingthunder\",\n",
    "    \"fb_url\":\"https://facebook.com/codingthunder\",\n",
    "    \"tw_url\":\"https://twitter.com/codingthunder\",\n",
    "    \"gh_url\": \"https://github.com/codingthunder\",\n",
    "    \"blog_name\": \"Coding Thunder\",\n",
    "    \"tag_line\": \"Heaven for programmers\",\n",
    "    \"gmail-user\":\"your-email@gmail.com\",\n",
    "    \"gmail-password\":\"gmailpassword\",\n",
    "    \"about_text\": \"Hi my name is harry and I create programming tutorials and I am a good boy\",\n",
    "    \"no_of_posts\": 3,\n",
    "    \"login_image\":\"login.svg\",\n",
    "    \"admin_user\":\"harry\"\n",
    "\n",
    "\n",
    "  }\n",
    "\n",
    "}'''"
   ]
  },
  {
   "cell_type": "code",
   "execution_count": 6,
   "metadata": {},
   "outputs": [
    {
     "data": {
      "text/plain": [
       "'{\\n  \"params\":\\n  {\\n    \"local_server\":\"True\",\\n    \"local_uri\": \"mysql://root:@localhost/codingthunder\",\\n    \"prod_uri\":\"mysql://root:@localhost/codingthunder\",\\n    \"fb_url\":\"https://facebook.com/codingthunder\",\\n    \"tw_url\":\"https://twitter.com/codingthunder\",\\n    \"gh_url\": \"https://github.com/codingthunder\",\\n    \"blog_name\": \"Coding Thunder\",\\n    \"tag_line\": \"Heaven for programmers\",\\n    \"gmail-user\":\"your-email@gmail.com\",\\n    \"gmail-password\":\"gmailpassword\",\\n    \"about_text\": \"Hi my name is harry and I create programming tutorials and I am a good boy\",\\n    \"no_of_posts\": 3,\\n    \"login_image\":\"login.svg\",\\n    \"admin_user\":\"harry\"\\n\\n\\n  }\\n\\n}'"
      ]
     },
     "execution_count": 6,
     "metadata": {},
     "output_type": "execute_result"
    }
   ],
   "source": [
    "ali"
   ]
  },
  {
   "cell_type": "code",
   "execution_count": 7,
   "metadata": {},
   "outputs": [
    {
     "name": "stdout",
     "output_type": "stream",
     "text": [
      "{'params': {'local_server': 'True', 'local_uri': 'mysql://root:@localhost/codingthunder', 'prod_uri': 'mysql://root:@localhost/codingthunder', 'fb_url': 'https://facebook.com/codingthunder', 'tw_url': 'https://twitter.com/codingthunder', 'gh_url': 'https://github.com/codingthunder', 'blog_name': 'Coding Thunder', 'tag_line': 'Heaven for programmers', 'gmail-user': 'your-email@gmail.com', 'gmail-password': 'gmailpassword', 'about_text': 'Hi my name is harry and I create programming tutorials and I am a good boy', 'no_of_posts': 3, 'login_image': 'login.svg', 'admin_user': 'harry'}}\n"
     ]
    }
   ],
   "source": [
    "xt=json.loads(ali)\n",
    "print(xt)"
   ]
  },
  {
   "cell_type": "code",
   "execution_count": 8,
   "metadata": {},
   "outputs": [
    {
     "data": {
      "text/plain": [
       "{'local_server': 'True',\n",
       " 'local_uri': 'mysql://root:@localhost/codingthunder',\n",
       " 'prod_uri': 'mysql://root:@localhost/codingthunder',\n",
       " 'fb_url': 'https://facebook.com/codingthunder',\n",
       " 'tw_url': 'https://twitter.com/codingthunder',\n",
       " 'gh_url': 'https://github.com/codingthunder',\n",
       " 'blog_name': 'Coding Thunder',\n",
       " 'tag_line': 'Heaven for programmers',\n",
       " 'gmail-user': 'your-email@gmail.com',\n",
       " 'gmail-password': 'gmailpassword',\n",
       " 'about_text': 'Hi my name is harry and I create programming tutorials and I am a good boy',\n",
       " 'no_of_posts': 3,\n",
       " 'login_image': 'login.svg',\n",
       " 'admin_user': 'harry'}"
      ]
     },
     "execution_count": 8,
     "metadata": {},
     "output_type": "execute_result"
    }
   ],
   "source": [
    "xt['params']"
   ]
  },
  {
   "cell_type": "code",
   "execution_count": 9,
   "metadata": {},
   "outputs": [],
   "source": [
    "with open(\"2.json\", 'w') as f:\n",
    "    json.dump(xt, f)"
   ]
  },
  {
   "cell_type": "code",
   "execution_count": 10,
   "metadata": {},
   "outputs": [],
   "source": [
    "import matplotlib "
   ]
  },
  {
   "cell_type": "code",
   "execution_count": 11,
   "metadata": {},
   "outputs": [],
   "source": [
    "from matplotlib import pyplot as plt"
   ]
  },
  {
   "cell_type": "code",
   "execution_count": 12,
   "metadata": {},
   "outputs": [],
   "source": [
    "from matplotlib import style"
   ]
  },
  {
   "cell_type": "code",
   "execution_count": 15,
   "metadata": {},
   "outputs": [
    {
     "data": {
      "text/plain": [
       "Text(0, 0.5, 'y')"
      ]
     },
     "execution_count": 15,
     "metadata": {},
     "output_type": "execute_result"
    },
    {
     "data": {
      "image/png": "[encoded data removed]",
      "text/plain": [
       "<Figure size 432x288 with 1 Axes>"
      ]
     },
     "metadata": {},
     "output_type": "display_data"
    }
   ],
   "source": [
    "from matplotlib import style\n",
    "\n",
    "plt.title(\"Natitk\")\n",
    "plt.plot([1,4,7],[3,4,5],linewidth=4, Label=\"first\", color=\"yellow\")\n",
    "plt.plot([5,4,7],[2,6,8],linewidth=4, Label=\"second\")\n",
    "\n",
    "plt.legend()\n",
    "\n",
    "plt.xlabel(\"x\")\n",
    "style.use(\"ggplot\")\n",
    "plt.ylabel(\"y\")"
   ]
  },
  {
   "cell_type": "code",
   "execution_count": 14,
   "metadata": {},
   "outputs": [
    {
     "data": {
      "text/plain": [
       "(array([1., 0., 0., 0., 0., 1., 0., 0., 0., 1.]),\n",
       " array([1. , 1.6, 2.2, 2.8, 3.4, 4. , 4.6, 5.2, 5.8, 6.4, 7. ]),\n",
       " <a list of 10 Patch objects>)"
      ]
     },
     "execution_count": 14,
     "metadata": {},
     "output_type": "execute_result"
    },
    {
     "data": {
      "image/png": "[encoded data removed]",
      "text/plain": [
       "<Figure size 432x288 with 1 Axes>"
      ]
     },
     "metadata": {},
     "output_type": "display_data"
    }
   ],
   "source": [
    "x=([1,4,7])\n",
    "y=([2,4,3])\n",
    "plt.scatter(x,y)\n",
    "plt.show\n",
    "plt.hist(x)"
   ]
  },
  {
   "cell_type": "code",
   "execution_count": null,
   "metadata": {},
   "outputs": [],
   "source": []
  }
 ],
 "metadata": {
  "kernelspec": {
   "display_name": "Python 3",
   "language": "python",
   "name": "python3"
  },
  "language_info": {
   "codemirror_mode": {
    "name": "ipython",
    "version": 3
   },
   "file_extension": ".py",
   "mimetype": "text/x-python",
   "name": "python",
   "nbconvert_exporter": "python",
   "pygments_lexer": "ipython3",
   "version": "3.7.0"
  }
 },
 "nbformat": 4,
 "nbformat_minor": 4
}
